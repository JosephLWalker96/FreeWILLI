{
 "cells": [
  {
   "cell_type": "code",
   "execution_count": 1,
   "id": "5825e587",
   "metadata": {},
   "outputs": [],
   "source": [
    "import numpy as np\n",
    "import matplotlib.pyplot as plt\n",
    "import os\n",
    "currentDirectory = os.getcwd()\n",
    "os.chdir(os.path.dirname(currentDirectory))\n",
    "#from TDOA_estimation import calculate_doa"
   ]
  },
  {
   "cell_type": "code",
   "execution_count": 37,
   "id": "ec1b9750-2159-44ff-ba37-483138851bb1",
   "metadata": {},
   "outputs": [
    {
     "name": "stdout",
     "output_type": "stream",
     "text": [
      "steering_vector:  [1. 1. 1.]\n",
      "phase_diffs:  [-0.9999 -0.9999 -0.9999]\n",
      "projection:  -2.9997000000000003\n",
      "-1.7318776024881206\n",
      "DOA: 91.7321414382689\n"
     ]
    }
   ],
   "source": [
    "def calculate_doa(tdoa, sound_speed):\n",
    "    \"\"\"\n",
    "    Calculates DOA from TDOA measurements for a vertical line array.\n",
    "\n",
    "    Args:\n",
    "      tdoa: A numpy array (n-1,) containing TDOA measurements in seconds between\n",
    "            consecutive channels (channel 2 - channel 1, channel 3 - channel 2, etc.).\n",
    "      sound_speed: The speed of sound in meters per second.\n",
    "\n",
    "    Returns:\n",
    "      The DOA of the sound source in degrees (0 degrees is directly overhead).\n",
    "\n",
    "    Raises:\n",
    "      ValueError: If the length of the TDOA array is not 3 (for 4 channels).\n",
    "    \"\"\"\n",
    "\n",
    "    # Check for valid TDOA length (3 for 4 channels)\n",
    "    if len(tdoa) != 3:\n",
    "        raise ValueError(\"TDOA array must have length 3 for 4 channels.\")\n",
    "\n",
    "    # Calculate microphone spacing based on channel count\n",
    "    mic_spacing = np.arange(1, len(tdoa) + 2)  # Positions of microphones relative to bottom\n",
    "\n",
    "    # Steering vector (normalized microphone positions)\n",
    "    steering_vector = np.array([1.0,1.0,1.0]) #mic_spacing / mic_spacing[-1]\n",
    "    print(\"steering_vector: \", steering_vector)\n",
    "    # Speed of sound times TDOA for phase differences\n",
    "    phase_diffs = sound_speed * tdoa\n",
    "    print(\"phase_diffs: \", phase_diffs)\n",
    "    # Calculate projection onto steering vector (normalized response)\n",
    "    projection = np.dot(steering_vector, phase_diffs) \n",
    "    print(\"projection: \", projection)\n",
    "    projection = projection / np.linalg.norm(steering_vector)\n",
    "    print(projection)\n",
    "    #projection = 0\n",
    "    # Calculate DOA from arcsine (assuming single source and valid TDOA)\n",
    "    doa = np.arcsin(projection * np.pi / 180.0) * 180.0 / np.pi\n",
    "\n",
    "    # Adjust DOA for vertical line array (0 degrees overhead)\n",
    "    doa = 90 - doa\n",
    "\n",
    "    return doa\n",
    "\n",
    "# Test the function with provided input\n",
    "val = -0.0006666\n",
    "tdoa = np.array([0.0, 0.0, 0.0])\n",
    "tdoa = np.array([val, val, val])\n",
    "\n",
    "speed_of_sound = 1500.0\n",
    "result = calculate_doa(tdoa, speed_of_sound)\n",
    "print(\"DOA:\", result)"
   ]
  },
  {
   "cell_type": "code",
   "execution_count": null,
   "id": "136690a2",
   "metadata": {},
   "outputs": [],
   "source": []
  },
  {
   "cell_type": "code",
   "execution_count": 5,
   "id": "59fffa9d",
   "metadata": {},
   "outputs": [
    {
     "data": {
      "text/plain": [
       "array([1, 2, 3, 4])"
      ]
     },
     "execution_count": 5,
     "metadata": {},
     "output_type": "execute_result"
    }
   ],
   "source": [
    "np.arange(1, 5)"
   ]
  },
  {
   "cell_type": "code",
   "execution_count": 16,
   "id": "e827ffb8-37c0-4720-99e1-871ef71c3615",
   "metadata": {},
   "outputs": [
    {
     "name": "stderr",
     "output_type": "stream",
     "text": [
      "/tmp/ipykernel_11476/1516716496.py:1: RuntimeWarning: invalid value encountered in arcsin\n",
      "  np.arcsin(50)\n"
     ]
    },
    {
     "data": {
      "text/plain": [
       "nan"
      ]
     },
     "execution_count": 16,
     "metadata": {},
     "output_type": "execute_result"
    }
   ],
   "source": [
    "np.arcsin(50)"
   ]
  },
  {
   "cell_type": "code",
   "execution_count": 24,
   "id": "4e0e17fb",
   "metadata": {},
   "outputs": [
    {
     "data": {
      "text/plain": [
       "3.141592653589793"
      ]
     },
     "execution_count": 24,
     "metadata": {},
     "output_type": "execute_result"
    }
   ],
   "source": [
    "np.pi"
   ]
  },
  {
   "cell_type": "code",
   "execution_count": null,
   "id": "58b4e64f",
   "metadata": {},
   "outputs": [],
   "source": []
  },
  {
   "cell_type": "code",
   "execution_count": null,
   "id": "1ad70e4d",
   "metadata": {},
   "outputs": [],
   "source": []
  },
  {
   "cell_type": "code",
   "execution_count": null,
   "id": "9b3bbf0f",
   "metadata": {},
   "outputs": [],
   "source": []
  },
  {
   "cell_type": "code",
   "execution_count": null,
   "id": "3f56ea75",
   "metadata": {},
   "outputs": [],
   "source": []
  },
  {
   "cell_type": "code",
   "execution_count": null,
   "id": "efafd2a2",
   "metadata": {},
   "outputs": [],
   "source": []
  },
  {
   "cell_type": "code",
   "execution_count": null,
   "id": "c744982c",
   "metadata": {},
   "outputs": [],
   "source": []
  },
  {
   "cell_type": "code",
   "execution_count": null,
   "id": "94ba7690",
   "metadata": {},
   "outputs": [],
   "source": []
  },
  {
   "cell_type": "code",
   "execution_count": null,
   "id": "7ea5c9c7",
   "metadata": {},
   "outputs": [],
   "source": []
  },
  {
   "cell_type": "code",
   "execution_count": null,
   "id": "806eb9c4",
   "metadata": {},
   "outputs": [],
   "source": []
  },
  {
   "cell_type": "code",
   "execution_count": null,
   "id": "b2296e6a",
   "metadata": {},
   "outputs": [],
   "source": []
  }
 ],
 "metadata": {
  "kernelspec": {
   "display_name": "Python 3 (ipykernel)",
   "language": "python",
   "name": "python3"
  },
  "language_info": {
   "codemirror_mode": {
    "name": "ipython",
    "version": 3
   },
   "file_extension": ".py",
   "mimetype": "text/x-python",
   "name": "python",
   "nbconvert_exporter": "python",
   "pygments_lexer": "ipython3",
   "version": "3.11.5"
  }
 },
 "nbformat": 4,
 "nbformat_minor": 5
}
