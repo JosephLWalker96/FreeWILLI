{
 "cells": [
  {
   "cell_type": "code",
   "execution_count": 1,
   "id": "5825e587",
   "metadata": {},
   "outputs": [
    {
     "ename": "ModuleNotFoundError",
     "evalue": "No module named 'TDOA_estimation'",
     "output_type": "error",
     "traceback": [
      "\u001b[0;31m---------------------------------------------------------------------------\u001b[0m",
      "\u001b[0;31mModuleNotFoundError\u001b[0m                       Traceback (most recent call last)",
      "Cell \u001b[0;32mIn[1], line 3\u001b[0m\n\u001b[1;32m      1\u001b[0m \u001b[38;5;28;01mimport\u001b[39;00m \u001b[38;5;21;01mnumpy\u001b[39;00m \u001b[38;5;28;01mas\u001b[39;00m \u001b[38;5;21;01mnp\u001b[39;00m\n\u001b[0;32m----> 3\u001b[0m \u001b[38;5;28;01mfrom\u001b[39;00m \u001b[38;5;21;01mTDOA_estimation\u001b[39;00m \u001b[38;5;28;01mimport\u001b[39;00m GCC_PHAT, CrossCorr\n",
      "\u001b[0;31mModuleNotFoundError\u001b[0m: No module named 'TDOA_estimation'"
     ]
    }
   ],
   "source": [
    "import numpy as np\n",
    "\n",
    "from TDOA_estimation import GCC_PHAT, CrossCorr\n"
   ]
  },
  {
   "cell_type": "code",
   "execution_count": 23,
   "id": "136690a2",
   "metadata": {},
   "outputs": [
    {
     "ename": "NameError",
     "evalue": "name 'ap' is not defined",
     "output_type": "error",
     "traceback": [
      "\u001b[0;31m---------------------------------------------------------------------------\u001b[0m",
      "\u001b[0;31mNameError\u001b[0m                                 Traceback (most recent call last)",
      "Cell \u001b[0;32mIn[23], line 63\u001b[0m\n\u001b[1;32m     61\u001b[0m x \u001b[38;5;241m=\u001b[39m np\u001b[38;5;241m.\u001b[39mlinspace(\u001b[38;5;241m-\u001b[39mlength \u001b[38;5;241m/\u001b[39m \u001b[38;5;241m2\u001b[39m, length \u001b[38;5;241m/\u001b[39m \u001b[38;5;241m2\u001b[39m, length, endpoint\u001b[38;5;241m=\u001b[39m\u001b[38;5;28;01mFalse\u001b[39;00m)\n\u001b[1;32m     62\u001b[0m sinc_1 \u001b[38;5;241m=\u001b[39m np\u001b[38;5;241m.\u001b[39mabs(np\u001b[38;5;241m.\u001b[39msinc(frequency \u001b[38;5;241m*\u001b[39m x))\n\u001b[0;32m---> 63\u001b[0m sinc_2 \u001b[38;5;241m=\u001b[39m \u001b[43map\u001b[49m\u001b[38;5;241m.\u001b[39mabs(np\u001b[38;5;241m.\u001b[39msinc(frequency \u001b[38;5;241m*\u001b[39m (x \u001b[38;5;241m-\u001b[39m offset\u001b[38;5;241m*\u001b[39m\u001b[38;5;241m.1\u001b[39m)))  \u001b[38;5;66;03m# Apply phase shift to the second sinc function\u001b[39;00m\n\u001b[1;32m     65\u001b[0m sinc_3 \u001b[38;5;241m=\u001b[39m np\u001b[38;5;241m.\u001b[39mabs(np\u001b[38;5;241m.\u001b[39msinc(frequency \u001b[38;5;241m*\u001b[39m (x \u001b[38;5;241m-\u001b[39m offset\u001b[38;5;241m*\u001b[39m\u001b[38;5;241m1.6\u001b[39m)))\n\u001b[1;32m     66\u001b[0m sinc_4 \u001b[38;5;241m=\u001b[39m np\u001b[38;5;241m.\u001b[39mabs(np\u001b[38;5;241m.\u001b[39msinc(frequency \u001b[38;5;241m*\u001b[39m (x \u001b[38;5;241m-\u001b[39m offset\u001b[38;5;241m*\u001b[39m\u001b[38;5;241m1.7\u001b[39m)))  \u001b[38;5;66;03m# Apply phase shift to the second sinc function\u001b[39;00m\n",
      "\u001b[0;31mNameError\u001b[0m: name 'ap' is not defined"
     ]
    }
   ],
   "source": [
    "def calculate_tdoa_cross_corr(signal_1, signal_2, fs):\n",
    "    # Cross-correlation of the two signals\n",
    "    cross_corr = np.correlate(signal_1, signal_2, mode='full')\n",
    "    # Time axis for the cross-correlation\n",
    "    time_axis = np.arange(-len(signal_1) + 1, len(signal_1)) / fs\n",
    "    # Find the index of the maximum value in the cross-correlation\n",
    "    \n",
    "    #plt.plot(np.abs(cross_corr))\n",
    "    #plt.show()\n",
    "    \n",
    "    max_index = np.argmax(np.abs(cross_corr))\n",
    "    print(max_index)\n",
    "\n",
    "    # Calculate the TDOA in seconds\n",
    "    tdoa = time_axis[max_index]\n",
    "    return tdoa\n",
    "\n",
    "def gcc_phat_2vecs(sig, refsig, fs=1, max_tau=None, interp=128):\n",
    "    '''\n",
    "    This function computes the offset between the signal sig and the reference signal refsig\n",
    "    using the Generalized Cross Correlation - Phase Transform (GCC-PHAT)method.\n",
    "    https://github.com/xiongyihui/tdoa/blob/master/gcc_phat.py\n",
    "    '''\n",
    "    \n",
    "    # make sure the length for the FFT is larger or equal than len(sig) + len(refsig)\n",
    "    n = sig.shape[0] + refsig.shape[0]\n",
    "\n",
    "    # Generalized Cross Correlation Phase Transform\n",
    "    SIG = np.fft.rfft(sig, n=n)\n",
    "    REFSIG = np.fft.rfft(refsig, n=n)\n",
    "    R = SIG * np.conj(REFSIG)\n",
    "\n",
    "    cc = np.fft.irfft(R / np.abs(R), n=(interp * n))\n",
    "\n",
    "    max_shift = int(interp * n / 2)\n",
    "    if max_tau:\n",
    "        max_shift = np.minimum(int(interp * fs * max_tau), max_shift)\n",
    "\n",
    "    cc = np.concatenate((cc[-max_shift:], cc[:max_shift+1]))\n",
    "\n",
    "    # find max cross correlation index\n",
    "    #plt.plot(np.abs(cc))\n",
    "    #plt.show()\n",
    "    \n",
    "    shift = np.argmax(np.abs(cc)) - max_shift\n",
    "\n",
    "    tau = shift / float(interp * fs)\n",
    "    \n",
    "    return tau, cc\n",
    "\n",
    "\n",
    "# Example usage:\n",
    "if __name__ == \"__main__\":\n",
    "    # Generate example signals\n",
    "    fs = 1000  # Sampling frequency in Hz\n",
    "    \n",
    "    length = 1000  # Length of the signal\n",
    "    frequency = .50  # Frequency of the sinc functions\n",
    "    offset = 50  # Offset between the sinc functions\n",
    "    \n",
    "    x = np.linspace(-length / 2, length / 2, length, endpoint=False)\n",
    "    sinc_1 = np.abs(np.sinc(frequency * x))\n",
    "    sinc_2 = ap.abs(np.sinc(frequency * (x - offset*.1)))  # Apply phase shift to the second sinc function\n",
    "    \n",
    "    sinc_3 = np.abs(np.sinc(frequency * (x - offset*1.6)))\n",
    "    sinc_4 = np.abs(np.sinc(frequency * (x - offset*1.7)))  # Apply phase shift to the second sinc function\n",
    "    \n",
    "    plt.plot(sinc_1,c= 'b', label = \"sinc_1\")\n",
    "    plt.plot(sinc_2, c= 'r', label = \"sinc_2\")\n",
    "    plt.plot(sinc_3,c= 'g', label = \"sinc_3\")\n",
    "    plt.plot(sinc_4, c= 'y', label = \"sinc_4\")\n",
    "    plt.legend()\n",
    "    plt.show()\n",
    "\n",
    "    \n",
    "    # Calculate TDOA using cross-correlation\n",
    "    startTime = time.time()\n",
    "    tdoa_cross_corr = calculate_tdoa_cross_corr(sinc_1, sinc_2, fs)\n",
    "    print(\"TDOA using cross-correlation:\", tdoa_cross_corr, \"seconds\")\n",
    "    print(\"Runtime: \", time.time() - startTime)\n",
    "    #tdoa_phat_based = phat_tdoa(sinc_1, sinc_2, fs)\n",
    "    #print(\"TDOA using phase-based method:\", tdoa_phat_based, \"seconds\")\n",
    "    \n",
    "    NewstartTime = time.time()\n",
    "    offset, _ = gcc_phat_2vecs(sinc_1, sinc_2, fs)\n",
    "    print(\"Runtime: \", time.time() - NewstartTime)\n",
    "    print(offset)"
   ]
  },
  {
   "cell_type": "code",
   "execution_count": null,
   "id": "59fffa9d",
   "metadata": {},
   "outputs": [],
   "source": []
  },
  {
   "cell_type": "code",
   "execution_count": null,
   "id": "4e0e17fb",
   "metadata": {},
   "outputs": [],
   "source": []
  },
  {
   "cell_type": "code",
   "execution_count": 21,
   "id": "58b4e64f",
   "metadata": {},
   "outputs": [],
   "source": [
    "def gcc_phat(channel_matrix, fs, max_tau=None, interp=32):\n",
    "    '''\n",
    "    This function computes the offset between the signal sig and the reference signal refsig\n",
    "    using the Generalized Cross Correlation - Phase Transform (GCC-PHAT)method.\n",
    "    https://github.com/xiongyihui/tdoa/blob/master/gcc_phat.py\n",
    "    '''\n",
    "    \n",
    "    tau_matrix = np.zeros((4,4))\n",
    "    #cc_matrix = np.zeros((4,4))\n",
    "    \n",
    "    for sig_ind in range(len(channel_matrix)-1):\n",
    "        for ref_ind in range(sig_ind+1,len(channel_matrix)):\n",
    "            sig = channel_matrix[sig_ind]\n",
    "            refsig = channel_matrix[ref_ind]\n",
    "            \n",
    "            #return\n",
    "            # make sure the length for the FFT is larger or equal than len(sig) + len(refsig)\n",
    "            n = sig.shape[0] + refsig.shape[0]\n",
    "\n",
    "            # Generalized Cross Correlation Phase Transform\n",
    "            SIG = np.fft.rfft(sig, n=n)\n",
    "            REFSIG = np.fft.rfft(refsig, n=n)\n",
    "            R = SIG * np.conj(REFSIG)\n",
    "\n",
    "            cc = np.fft.irfft(R / np.abs(R), n=(interp * n))\n",
    "\n",
    "            max_shift = int(interp * n / 2)\n",
    "            if max_tau:\n",
    "                max_shift = np.minimum(int(interp * fs * max_tau), max_shift)\n",
    "\n",
    "            cc = np.concatenate((cc[-max_shift:], cc[:max_shift+1]))\n",
    "\n",
    "            # find max cross correlation index\n",
    "            shift = np.argmax(np.abs(cc)) - max_shift\n",
    "\n",
    "            tau = shift / float(interp * fs)\n",
    "            \n",
    "            tau_matrix[ref_ind,sig_ind] = tau\n",
    "            #cc_matrix[ref_ind,sig_ind] = cc\n",
    "    \n",
    "    return tau_matrix#, cc_matrix"
   ]
  },
  {
   "cell_type": "code",
   "execution_count": 22,
   "id": "1ad70e4d",
   "metadata": {},
   "outputs": [
    {
     "name": "stdout",
     "output_type": "stream",
     "text": [
      "[[ 0.          0.          0.          0.        ]\n",
      " [-0.00475     0.          0.          0.        ]\n",
      " [-0.08       -0.0749375   0.          0.        ]\n",
      " [-0.08496875 -0.08       -0.004625    0.        ]]\n"
     ]
    }
   ],
   "source": [
    "fs = 1000  # Sampling frequency in Hz\n",
    "\n",
    "length = 50000  # Length of the signal\n",
    "frequency = .50  # Frequency of the sinc functions\n",
    "offset = 50  # Offset between the sinc functions\n",
    "\n",
    "x = np.linspace(-length / 2, length / 2, length, endpoint=False)\n",
    "sinc_1 = np.sinc(frequency * x)\n",
    "sinc_2 = np.sinc(frequency * (x - offset*.1))  # Apply phase shift to the second sinc function\n",
    "\n",
    "sinc_3 = np.sinc(frequency * (x - offset*1.6))\n",
    "sinc_4 = np.sinc(frequency * (x - offset*1.7))  # Apply phase shift to the second sinc function\n",
    "\n",
    "\n",
    "\n",
    "tau_mat = gcc_phat(np.vstack(np.array([sinc_1, sinc_2,sinc_3, sinc_4])), fs)\n",
    "print(tau_mat)"
   ]
  },
  {
   "cell_type": "code",
   "execution_count": 16,
   "id": "9b3bbf0f",
   "metadata": {},
   "outputs": [],
   "source": [
    "def calculate_tdoa_cross_corr(channel_matrix, fs, max_tau=None, interp=16):\n",
    "    '''\n",
    "    This function computes the offset between the signal sig and the reference signal refsig\n",
    "    using the Cross Correlation method.\n",
    "    '''\n",
    "    \n",
    "    tau_matrix = np.zeros((4,4))\n",
    "    \n",
    "    \n",
    "    for sig_ind in range(len(channel_matrix)-1):\n",
    "        for ref_ind in range(sig_ind+1,len(channel_matrix)):\n",
    "            sig = channel_matrix[sig_ind]\n",
    "            refsig = channel_matrix[ref_ind]\n",
    "    \n",
    "    \n",
    "    \n",
    "            # Cross-correlation of the two signals\n",
    "            cross_corr = np.correlate(sig, refsig, mode='full')\n",
    "            # Time axis for the cross-correlation\n",
    "            time_axis = np.arange(-len(sig) + 1, len(refsig)) / fs\n",
    "            # Find the index of the maximum value in the cross-correlation\n",
    "\n",
    "            #plt.plot(np.abs(cross_corr))\n",
    "            #plt.show()\n",
    "\n",
    "            max_index = np.argmax(np.abs(cross_corr))\n",
    "            #print(max_index)\n",
    "\n",
    "            # Calculate the TDOA in seconds\n",
    "            tdoa = time_axis[max_index]\n",
    "            \n",
    "            tau_matrix[ref_ind,sig_ind] = tdoa\n",
    "            \n",
    "    return tau_matrix"
   ]
  },
  {
   "cell_type": "code",
   "execution_count": 17,
   "id": "3f56ea75",
   "metadata": {},
   "outputs": [
    {
     "name": "stdout",
     "output_type": "stream",
     "text": [
      "[[ 0.     0.     0.     0.   ]\n",
      " [-0.005  0.     0.     0.   ]\n",
      " [-0.08  -0.075  0.     0.   ]\n",
      " [-0.085 -0.08  -0.005  0.   ]]\n"
     ]
    }
   ],
   "source": [
    "tau_matrix = calculate_tdoa_cross_corr(np.vstack(np.array([sinc_1, sinc_2,sinc_3, sinc_4])), fs)\n",
    "print(tau_matrix)"
   ]
  },
  {
   "cell_type": "code",
   "execution_count": null,
   "id": "efafd2a2",
   "metadata": {},
   "outputs": [],
   "source": []
  },
  {
   "cell_type": "code",
   "execution_count": null,
   "id": "c744982c",
   "metadata": {},
   "outputs": [],
   "source": []
  }
 ],
 "metadata": {
  "kernelspec": {
   "display_name": "Python 3 (ipykernel)",
   "language": "python",
   "name": "python3"
  },
  "language_info": {
   "codemirror_mode": {
    "name": "ipython",
    "version": 3
   },
   "file_extension": ".py",
   "mimetype": "text/x-python",
   "name": "python",
   "nbconvert_exporter": "python",
   "pygments_lexer": "ipython3",
   "version": "3.9.12"
  }
 },
 "nbformat": 4,
 "nbformat_minor": 5
}
