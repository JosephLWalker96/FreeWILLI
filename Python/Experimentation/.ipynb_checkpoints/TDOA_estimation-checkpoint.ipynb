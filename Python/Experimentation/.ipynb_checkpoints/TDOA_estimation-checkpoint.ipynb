{
 "cells": [
  {
   "cell_type": "code",
   "execution_count": 2,
   "id": "5825e587",
   "metadata": {},
   "outputs": [],
   "source": [
    "import numpy as np\n",
    "import matplotlib.pyplot as plt"
   ]
  },
  {
   "cell_type": "code",
   "execution_count": 23,
   "id": "136690a2",
   "metadata": {},
   "outputs": [
    {
     "ename": "NameError",
     "evalue": "name 'ap' is not defined",
     "output_type": "error",
     "traceback": [
      "\u001b[0;31m---------------------------------------------------------------------------\u001b[0m",
      "\u001b[0;31mNameError\u001b[0m                                 Traceback (most recent call last)",
      "Cell \u001b[0;32mIn[23], line 63\u001b[0m\n\u001b[1;32m     61\u001b[0m x \u001b[38;5;241m=\u001b[39m np\u001b[38;5;241m.\u001b[39mlinspace(\u001b[38;5;241m-\u001b[39mlength \u001b[38;5;241m/\u001b[39m \u001b[38;5;241m2\u001b[39m, length \u001b[38;5;241m/\u001b[39m \u001b[38;5;241m2\u001b[39m, length, endpoint\u001b[38;5;241m=\u001b[39m\u001b[38;5;28;01mFalse\u001b[39;00m)\n\u001b[1;32m     62\u001b[0m sinc_1 \u001b[38;5;241m=\u001b[39m np\u001b[38;5;241m.\u001b[39mabs(np\u001b[38;5;241m.\u001b[39msinc(frequency \u001b[38;5;241m*\u001b[39m x))\n\u001b[0;32m---> 63\u001b[0m sinc_2 \u001b[38;5;241m=\u001b[39m \u001b[43map\u001b[49m\u001b[38;5;241m.\u001b[39mabs(np\u001b[38;5;241m.\u001b[39msinc(frequency \u001b[38;5;241m*\u001b[39m (x \u001b[38;5;241m-\u001b[39m offset\u001b[38;5;241m*\u001b[39m\u001b[38;5;241m.1\u001b[39m)))  \u001b[38;5;66;03m# Apply phase shift to the second sinc function\u001b[39;00m\n\u001b[1;32m     65\u001b[0m sinc_3 \u001b[38;5;241m=\u001b[39m np\u001b[38;5;241m.\u001b[39mabs(np\u001b[38;5;241m.\u001b[39msinc(frequency \u001b[38;5;241m*\u001b[39m (x \u001b[38;5;241m-\u001b[39m offset\u001b[38;5;241m*\u001b[39m\u001b[38;5;241m1.6\u001b[39m)))\n\u001b[1;32m     66\u001b[0m sinc_4 \u001b[38;5;241m=\u001b[39m np\u001b[38;5;241m.\u001b[39mabs(np\u001b[38;5;241m.\u001b[39msinc(frequency \u001b[38;5;241m*\u001b[39m (x \u001b[38;5;241m-\u001b[39m offset\u001b[38;5;241m*\u001b[39m\u001b[38;5;241m1.7\u001b[39m)))  \u001b[38;5;66;03m# Apply phase shift to the second sinc function\u001b[39;00m\n",
      "\u001b[0;31mNameError\u001b[0m: name 'ap' is not defined"
     ]
    }
   ],
   "source": [
    "def GCC_PHAT(channel_matrix, fs, max_tau=None, interp=16):\n",
    "    '''\n",
    "    This function computes the offset between the signal sig and the reference signal refsig\n",
    "    using the Generalized Cross Correlation - Phase Transform (GCC-PHAT)method.\n",
    "    https://github.com/xiongyihui/tdoa/blob/master/gcc_phat.py\n",
    "    '''\n",
    "    \n",
    "    tau_matrix = np.zeros((4,4))\n",
    "    #cc_matrix = np.zeros((4,4))\n",
    "    \n",
    "    for sig_ind in range(len(channel_matrix)-1):\n",
    "        for ref_ind in range(sig_ind+1,len(channel_matrix)):\n",
    "            sig = np.abs(channel_matrix[sig_ind])\n",
    "            refsig = np.abs(channel_matrix[ref_ind])\n",
    "            \n",
    "            #return\n",
    "            # make sure the length for the FFT is larger or equal than len(sig) + len(refsig)\n",
    "            n = sig.shape[0] + refsig.shape[0]\n",
    "\n",
    "            # Generalized Cross Correlation Phase Transform\n",
    "            SIG = np.fft.rfft(sig, n=n)\n",
    "            REFSIG = np.fft.rfft(refsig, n=n)\n",
    "            R = SIG * np.conj(REFSIG)\n",
    "\n",
    "            cc = np.fft.irfft(R / np.abs(R), n=(interp * n))\n",
    "\n",
    "            max_shift = int(interp * n / 2)\n",
    "            if max_tau:\n",
    "                max_shift = np.minimum(int(interp * fs * max_tau), max_shift)\n",
    "\n",
    "            cc = np.concatenate((cc[-max_shift:], cc[:max_shift+1]))\n",
    "\n",
    "            # find max cross correlation index\n",
    "            shift = np.argmax(np.abs(cc)) - max_shift\n",
    "\n",
    "            tau = shift / float(interp * fs)\n",
    "            \n",
    "            tau_matrix[ref_ind,sig_ind] = tau\n",
    "            #cc_matrix[ref_ind,sig_ind] = cc\n",
    "    \n",
    "    return tau_matrix#, cc_matrix\n"
   ]
  },
  {
   "cell_type": "code",
   "execution_count": null,
   "id": "59fffa9d",
   "metadata": {},
   "outputs": [],
   "source": []
  },
  {
   "cell_type": "code",
   "execution_count": null,
   "id": "4e0e17fb",
   "metadata": {},
   "outputs": [],
   "source": []
  },
  {
   "cell_type": "code",
   "execution_count": null,
   "id": "58b4e64f",
   "metadata": {},
   "outputs": [],
   "source": []
  },
  {
   "cell_type": "code",
   "execution_count": null,
   "id": "1ad70e4d",
   "metadata": {},
   "outputs": [],
   "source": []
  },
  {
   "cell_type": "code",
   "execution_count": null,
   "id": "9b3bbf0f",
   "metadata": {},
   "outputs": [],
   "source": []
  },
  {
   "cell_type": "code",
   "execution_count": null,
   "id": "3f56ea75",
   "metadata": {},
   "outputs": [],
   "source": []
  },
  {
   "cell_type": "code",
   "execution_count": null,
   "id": "efafd2a2",
   "metadata": {},
   "outputs": [],
   "source": []
  },
  {
   "cell_type": "code",
   "execution_count": null,
   "id": "c744982c",
   "metadata": {},
   "outputs": [],
   "source": []
  }
 ],
 "metadata": {
  "kernelspec": {
   "display_name": "Python 3 (ipykernel)",
   "language": "python",
   "name": "python3"
  },
  "language_info": {
   "codemirror_mode": {
    "name": "ipython",
    "version": 3
   },
   "file_extension": ".py",
   "mimetype": "text/x-python",
   "name": "python",
   "nbconvert_exporter": "python",
   "pygments_lexer": "ipython3",
   "version": "3.11.5"
  }
 },
 "nbformat": 4,
 "nbformat_minor": 5
}
