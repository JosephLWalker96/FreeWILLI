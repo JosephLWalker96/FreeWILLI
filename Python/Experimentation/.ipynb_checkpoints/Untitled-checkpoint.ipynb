{
 "cells": [
  {
   "cell_type": "code",
   "execution_count": 3,
   "id": "bcf47117-887c-49dd-ac80-91b6750bbca3",
   "metadata": {},
   "outputs": [],
   "source": [
    "import numpy as np"
   ]
  },
  {
   "cell_type": "code",
   "execution_count": 79,
   "id": "2f402b87-8cca-4a3b-9ac3-f6ae776eb821",
   "metadata": {},
   "outputs": [
    {
     "name": "stdout",
     "output_type": "stream",
     "text": [
      "[0. 0. 0. 0.]\n",
      "[0.0006 0.     0.     0.    ]\n",
      "[0.0012 0.0006 0.     0.    ]\n",
      "[0.0018 0.0012 0.0006 0.    ]\n",
      "vals:  [0.9 0.9 0.9 0.9 0.9 0.9]\n",
      "pi:  1.5707963267948966\n",
      "[0.9 0.9 0.9 0.9 0.9 0.9]\n",
      "[64.15806724 64.15806724 64.15806724 64.15806724 64.15806724 64.15806724]\n"
     ]
    }
   ],
   "source": [
    "def my_calculate_doa(TDOAs,soundSpeed,chanSpacing):\n",
    "    # minimum and maximum values that arcsin can accept.. force values to be between these\n",
    "    max_val = 1\n",
    "    min_val = -1\n",
    "    #dist = np.array([[0,0,0,0],[1,0,0,0],[2,1,0,0],[3,2,1,0]])\n",
    "\n",
    "    #dists = dist.flatten()\n",
    "    #unique_pairs = np.where(dists > 0)[0]\n",
    "\n",
    "\n",
    "    #unique_dists = dists[unique_pairs]\n",
    "    #tdoas = TDOA.flatten()[unique_pairs]\n",
    "\n",
    "    #print(unique_dists)\n",
    "    #print(tdoas)\n",
    "\n",
    "    dd = TDOAs * soundSpeed \n",
    "    vals = dd / chanSpacing\n",
    "    print(\"vals: \", vals)\n",
    "    print(\"pi: \", np.pi / 2)\n",
    "    \n",
    "    if ((np.abs(vals) > 1).any()):\n",
    "        print(\"Out of bounds values: \")\n",
    "        print(vals)\n",
    "\n",
    "    \n",
    "\n",
    "\n",
    "    # Clip the array\n",
    "    vals = np.clip(vals, min_val, max_val)\n",
    "    print(vals)\n",
    "    print(np.arcsin(vals) * 180 / np.pi)\n",
    "\n",
    "\n",
    "vert = -.000666667\n",
    "vert = 0.0006\n",
    "\n",
    "tdoa = np.array([[0,0,0,0],[1,0,0,0],[2,1,0,0],[3,2,1,0]]) * vert\n",
    "for ex in tdoa:\n",
    "    print(ex)\n",
    "\n",
    "# tdoa = [1 -> 2, 1 -> 3, 1 -> 4, 2 -> 3, 2 -> 4, 3 -> 4]\n",
    "chanSpacing  = np.array([1, 2, 3, 1, 2, 1])\n",
    "tdoas_flattened = np.array([1, 2, 3, 1, 2, 1]) * vert\n",
    "my_calculate_doa(tdoas_flattened,1500, chanSpacing)\n"
   ]
  },
  {
   "cell_type": "code",
   "execution_count": null,
   "id": "0f0167ef-2640-43e1-ba30-6e3648674652",
   "metadata": {},
   "outputs": [],
   "source": []
  },
  {
   "cell_type": "code",
   "execution_count": 27,
   "id": "abc5abde-14ba-44f7-8afa-f1e00e57ba17",
   "metadata": {},
   "outputs": [
    {
     "data": {
      "text/plain": [
       "0.0"
      ]
     },
     "execution_count": 27,
     "metadata": {},
     "output_type": "execute_result"
    }
   ],
   "source": [
    "dt = 0.00066666666666\n",
    "dt = 0\n",
    "v = 1500\n",
    "dd = v * dt\n",
    "\n",
    "np.arcsin(dd) * 180 / np.pi"
   ]
  },
  {
   "cell_type": "code",
   "execution_count": 46,
   "id": "3fdca9de-176c-4f41-9b31-23338d5f95d7",
   "metadata": {},
   "outputs": [
    {
     "name": "stdout",
     "output_type": "stream",
     "text": [
      "False\n"
     ]
    }
   ],
   "source": [
    "aa = np.array([1,2,3,4,6,7,8,9])\n",
    "\n",
    "print(aa.any() > 4)"
   ]
  },
  {
   "cell_type": "code",
   "execution_count": 48,
   "id": "d3f5b5a9-1cf2-459d-8f02-6fd41b6f6424",
   "metadata": {},
   "outputs": [
    {
     "data": {
      "text/plain": [
       "False"
      ]
     },
     "execution_count": 48,
     "metadata": {},
     "output_type": "execute_result"
    }
   ],
   "source": [
    "(aa > 40).any()"
   ]
  },
  {
   "cell_type": "code",
   "execution_count": 55,
   "id": "1e371c4a-fcf2-407a-81ce-d0b0c71851c4",
   "metadata": {},
   "outputs": [
    {
     "name": "stderr",
     "output_type": "stream",
     "text": [
      "/tmp/ipykernel_5299/1075070950.py:1: RuntimeWarning: invalid value encountered in arcsin\n",
      "  np.arcsin(1.0000005)\n"
     ]
    },
    {
     "data": {
      "text/plain": [
       "nan"
      ]
     },
     "execution_count": 55,
     "metadata": {},
     "output_type": "execute_result"
    }
   ],
   "source": [
    "np.arcsin(1.0000005)"
   ]
  },
  {
   "cell_type": "code",
   "execution_count": 87,
   "id": "6b1c1e47-720d-4b88-ad00-27127a434694",
   "metadata": {},
   "outputs": [
    {
     "data": {
      "text/plain": [
       "81.89038554400581"
      ]
     },
     "execution_count": 87,
     "metadata": {},
     "output_type": "execute_result"
    }
   ],
   "source": [
    "delay = 66 / 100000\n",
    "dm = delay * 1500\n",
    "np.arcsin(dm) * 180 / np.pi"
   ]
  },
  {
   "cell_type": "code",
   "execution_count": 88,
   "id": "05b2dde6-64db-4e27-979e-8d8dcb27b164",
   "metadata": {},
   "outputs": [
    {
     "data": {
      "text/plain": [
       "0.0006666666666666666"
      ]
     },
     "execution_count": 88,
     "metadata": {},
     "output_type": "execute_result"
    }
   ],
   "source": [
    "1/1500"
   ]
  },
  {
   "cell_type": "code",
   "execution_count": 90,
   "id": "2e96a6d4-2cc3-4d55-b8d1-b87aad263e9f",
   "metadata": {},
   "outputs": [
    {
     "data": {
      "text/plain": [
       "66.66000000000001"
      ]
     },
     "execution_count": 90,
     "metadata": {},
     "output_type": "execute_result"
    }
   ],
   "source": [
    ".0006666 * 100000"
   ]
  },
  {
   "cell_type": "code",
   "execution_count": null,
   "id": "68e64b36-6ce4-4186-8ded-53bd070fbaf2",
   "metadata": {},
   "outputs": [],
   "source": []
  }
 ],
 "metadata": {
  "kernelspec": {
   "display_name": "Python 3 (ipykernel)",
   "language": "python",
   "name": "python3"
  },
  "language_info": {
   "codemirror_mode": {
    "name": "ipython",
    "version": 3
   },
   "file_extension": ".py",
   "mimetype": "text/x-python",
   "name": "python",
   "nbconvert_exporter": "python",
   "pygments_lexer": "ipython3",
   "version": "3.11.5"
  }
 },
 "nbformat": 4,
 "nbformat_minor": 5
}
